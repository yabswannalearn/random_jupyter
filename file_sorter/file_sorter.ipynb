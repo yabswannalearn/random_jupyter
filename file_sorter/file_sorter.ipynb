{
 "cells": [
  {
   "cell_type": "markdown",
   "id": "59cb9f33",
   "metadata": {},
   "source": [
    "# File Sorter"
   ]
  },
  {
   "cell_type": "code",
   "execution_count": 57,
   "id": "c3251c8f",
   "metadata": {},
   "outputs": [],
   "source": [
    "import os, shutil"
   ]
  },
  {
   "cell_type": "markdown",
   "id": "c59eb8e0",
   "metadata": {},
   "source": [
    "## Setting up the path"
   ]
  },
  {
   "cell_type": "code",
   "execution_count": 58,
   "id": "698dc2c4",
   "metadata": {},
   "outputs": [],
   "source": [
    "path = r\"C:/jupyter/file_sorter/\""
   ]
  },
  {
   "cell_type": "markdown",
   "id": "fe9c8cba",
   "metadata": {},
   "source": [
    "## Checking the files in the path"
   ]
  },
  {
   "cell_type": "code",
   "execution_count": 59,
   "id": "65802c7c",
   "metadata": {},
   "outputs": [],
   "source": [
    "file_names = os.listdir(path)"
   ]
  },
  {
   "cell_type": "markdown",
   "id": "c89413ed",
   "metadata": {},
   "source": [
    "## Making the folders for each type"
   ]
  },
  {
   "cell_type": "code",
   "execution_count": 60,
   "id": "f9d1e80d",
   "metadata": {},
   "outputs": [],
   "source": [
    "folder_names = ['pdf files', 'image files', 'md files', 'video files']\n",
    "\n",
    "for loop in range(0,4):\n",
    "    if not os.path.exists(path + folder_names[loop]):\n",
    "        os.makedirs(folder_names[loop])\n",
    "\n"
   ]
  },
  {
   "cell_type": "markdown",
   "id": "3c616b12",
   "metadata": {},
   "source": [
    "## The loop for checking if files are in the folder and moving the files"
   ]
  },
  {
   "cell_type": "code",
   "execution_count": 61,
   "id": "5af9e42d",
   "metadata": {},
   "outputs": [],
   "source": [
    "for file in file_names:\n",
    "    if \".jpg\" in file and not os.path.exists(path + \"image files/\" + file): # if the type is in that folder and not already in the image file folder\n",
    "        shutil.move(path + file, path + \"image files/\" + file) # move the file into the image file folder\n",
    "    elif \".md\" in file and not os.path.exists(path + \"md files/\" + file):\n",
    "        shutil.move(path + file, path + \"md files/\" + file)\n",
    "    elif \".pdf\" in file and not os.path.exists(path + \"pdf files/\" + file):\n",
    "        shutil.move(path + file, path + \"pdf files/\" + file)\n",
    "    elif \".mp4\" in file and not os.path.exists(path + \"video files/\" + file):\n",
    "        shutil.move(path + file, path + \"video files/\" + file)\n",
    "    elif \".png\" in file and not os.path.exists(path + \"image files/\" + file):\n",
    "        shutil.move(path + file, path + \"image files/\" + file)"
   ]
  }
 ],
 "metadata": {
  "kernelspec": {
   "display_name": "base",
   "language": "python",
   "name": "python3"
  },
  "language_info": {
   "codemirror_mode": {
    "name": "ipython",
    "version": 3
   },
   "file_extension": ".py",
   "mimetype": "text/x-python",
   "name": "python",
   "nbconvert_exporter": "python",
   "pygments_lexer": "ipython3",
   "version": "3.13.5"
  }
 },
 "nbformat": 4,
 "nbformat_minor": 5
}
