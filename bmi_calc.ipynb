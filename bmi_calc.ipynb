{
 "cells": [
  {
   "cell_type": "markdown",
   "id": "fdc4c5ce-2226-47f1-9e73-87767eec3319",
   "metadata": {},
   "source": [
    "# BMI calculator"
   ]
  },
  {
   "cell_type": "code",
   "execution_count": 30,
   "id": "16a3319e-4ebb-4f3c-b77b-befeb27f2ebe",
   "metadata": {},
   "outputs": [
    {
     "name": "stdin",
     "output_type": "stream",
     "text": [
      "Enter your name:  Reinael Yabut\n",
      "Enter your weight in pounds:  149.49\n",
      "Enter your height in inches:  67\n"
     ]
    },
    {
     "name": "stdout",
     "output_type": "stream",
     "text": [
      "23.410886611717533\n"
     ]
    }
   ],
   "source": [
    "name = input(\"Enter your name: \")\n",
    "\n",
    "weight = float(input(\"Enter your weight in pounds: \"))\n",
    "\n",
    "height = float(input(\"Enter your height in inches: \"))\n",
    "\n",
    "BMI = (weight * 703) / (height**2)\n",
    "\n",
    "print(BMI)"
   ]
  },
  {
   "cell_type": "code",
   "execution_count": 31,
   "id": "efefb2c4-bbbc-4769-a5d1-759cc0c6f562",
   "metadata": {},
   "outputs": [
    {
     "name": "stdout",
     "output_type": "stream",
     "text": [
      "Reinael Yabut your BMI is 23.410886611717533, and you are Normal Weight\n"
     ]
    }
   ],
   "source": [
    "\n",
    "if BMI <= 18.5:\n",
    "    print(f'{name} your BMI is {BMI}, and you are Underweight')\n",
    "elif 18.5 < BMI < 24.9:\n",
    "    print(f'{name} your BMI is {BMI}, and you are Normal Weight')\n",
    "elif 25 < BMI < 29.9:\n",
    "    print(f'{name} your BMI is {BMI}, and you are Overweight')\n",
    "elif 30 < BMI < 34.9:\n",
    "    print(f'{name} your BMI is {BMI}, and you are Obese')\n",
    "elif 35 < BMI < 39.9:\n",
    "    print(f'{name} your BMI is {BMI}, and you are Severly Obese')\n",
    "else:\n",
    "    print(f'{name} your BMI is {BMI}, and you are Morbidly Obese')"
   ]
  },
  {
   "cell_type": "code",
   "execution_count": null,
   "id": "6d4c1d96-47a4-4128-a8bf-e93a23d926be",
   "metadata": {},
   "outputs": [],
   "source": []
  },
  {
   "cell_type": "code",
   "execution_count": null,
   "id": "bf2226a2-95d5-4f86-9816-ffd7685b4a27",
   "metadata": {},
   "outputs": [],
   "source": []
  },
  {
   "cell_type": "code",
   "execution_count": null,
   "id": "36175a64-3f79-4694-baa5-26fd81de7b2d",
   "metadata": {},
   "outputs": [],
   "source": []
  },
  {
   "cell_type": "code",
   "execution_count": null,
   "id": "e0d48c79-5037-467d-a925-58517a9f865e",
   "metadata": {},
   "outputs": [],
   "source": []
  },
  {
   "cell_type": "code",
   "execution_count": null,
   "id": "5c5c5463-e4a4-4291-8f3c-c260c5e4f93d",
   "metadata": {},
   "outputs": [],
   "source": []
  },
  {
   "cell_type": "code",
   "execution_count": null,
   "id": "5c2cac41-8868-4b7b-9480-e992d7a7f519",
   "metadata": {},
   "outputs": [],
   "source": []
  },
  {
   "cell_type": "code",
   "execution_count": null,
   "id": "141b2e16-05e6-40dc-a898-ccfb99c71fe7",
   "metadata": {},
   "outputs": [],
   "source": []
  },
  {
   "cell_type": "code",
   "execution_count": null,
   "id": "03360531-4be4-442f-9fa7-b670ee3de9c6",
   "metadata": {},
   "outputs": [],
   "source": []
  },
  {
   "cell_type": "code",
   "execution_count": null,
   "id": "1a6cdbbc-c52f-4401-8752-f6cf8179e028",
   "metadata": {},
   "outputs": [],
   "source": []
  },
  {
   "cell_type": "code",
   "execution_count": null,
   "id": "87daadbe-7454-4d4e-8c6a-54ca17120c89",
   "metadata": {},
   "outputs": [],
   "source": []
  }
 ],
 "metadata": {
  "kernelspec": {
   "display_name": "Python [conda env:base] *",
   "language": "python",
   "name": "conda-base-py"
  },
  "language_info": {
   "codemirror_mode": {
    "name": "ipython",
    "version": 3
   },
   "file_extension": ".py",
   "mimetype": "text/x-python",
   "name": "python",
   "nbconvert_exporter": "python",
   "pygments_lexer": "ipython3",
   "version": "3.13.5"
  }
 },
 "nbformat": 4,
 "nbformat_minor": 5
}
