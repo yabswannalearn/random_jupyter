{
 "cells": [
  {
   "cell_type": "markdown",
   "id": "7419a09d",
   "metadata": {},
   "source": [
    "# Top 100 universities in the PH using web scraping"
   ]
  },
  {
   "cell_type": "code",
   "execution_count": null,
   "id": "e48467ca",
   "metadata": {},
   "outputs": [],
   "source": [
    "from bs4 import BeautifulSoup\n",
    "import requests"
   ]
  },
  {
   "cell_type": "code",
   "execution_count": null,
   "id": "eb3f6224",
   "metadata": {},
   "outputs": [],
   "source": [
    "url = \"https://edurank.org/geo/ph/\"\n",
    "\n",
    "page = requests.get(url)\n",
    "\n",
    "soup = BeautifulSoup(page.text, 'html')"
   ]
  },
  {
   "cell_type": "code",
   "execution_count": null,
   "id": "a627c6e9",
   "metadata": {},
   "outputs": [],
   "source": [
    "print(soup)"
   ]
  },
  {
   "cell_type": "code",
   "execution_count": null,
   "id": "786c6c7b",
   "metadata": {},
   "outputs": [],
   "source": [
    "university_blocks = soup.find_all('div', class_='block-cont pt-4 mb-4')\n",
    "\n",
    "university_data = []"
   ]
  },
  {
   "cell_type": "code",
   "execution_count": null,
   "id": "4a915f5a",
   "metadata": {},
   "outputs": [],
   "source": [
    "for block in university_blocks:\n",
    "    # Extract university name and URL\n",
    "    name_link = block.find('a', class_='text-break text-decoration-none color-dark-blue')\n",
    "    if name_link:\n",
    "        university_name = name_link.get_text(strip=True)\n",
    "        # Clean the name (remove numbering like \"3. \")\n",
    "        if '. ' in university_name:\n",
    "            university_name = university_name.split('. ', 1)[1]\n",
    "        university_url = name_link.get('href')\n",
    "    else:\n",
    "        university_name = \"N/A\"\n",
    "        university_url = \"N/A\""
   ]
  },
  {
   "cell_type": "code",
   "execution_count": 42,
   "id": "17062e4a",
   "metadata": {},
   "outputs": [
    {
     "name": "stdout",
     "output_type": "stream",
     "text": [
      "<div class=\"block-cont pt-4 mb-4\"> <h2 class=\"h4 font-weight-bold text-center\"> <a class=\"text-break text-decoration-none color-dark-blue\" href=\"https://edurank.org/uni/ama-computer-university/\" translate=\"no\"><span class=\"text-color-def\">100.</span> AMA Computer University</a> </h2> <div class=\"uni-card__geo text-center\"> <a class=\"color-dark-blue text-decoration-none\" href=\"https://edurank.org/geo/quezon-city/\"> <span class=\"align-middle\" translate=\"no\">Quezon</span> </a> </div> <div class=\"row mb-2\"> <div class=\"col-8 uni-card__ranks\"> <div class=\"uni-card__rank\">#<span class=\"text-fat\">3891</span> in <a href=\"https://edurank.org/geo/as/\">Asia</a></div> <div class=\"uni-card__rank\">#<span class=\"text-fat\">9775</span> in <a href=\"https://edurank.org/geo/\">the World</a></div> </div> <div class=\"col-4 col-md-4\"> <div class=\"mb-1\"> <a href=\"https://edurank.org/uni/ama-computer-university/\"> <img alt=\"AMA Computer University logo\" height=\"100\" loading=\"lazy\" src=\"https://edurank.org/assets/img/uni-logos/ama-computer-university-logo.png\" width=\"100\"/> </a> </div> </div> <div class=\"col-12 uni-card__info\"> <dl class=\"row no-gutters mb-0 uni-card__info-list\"> <div class=\"col-6 mb-2 col-md-auto mb-md-0\"> <dt>Founded</dt> <dd>1980</dd> </div> </dl> </div> </div> <a class=\"block-cont__footer text-secondary text-center\" href=\"https://edurank.org/uni/ama-computer-university/\"> <div class=\"block-cont__footer-text\"> Read more <svg class=\"icon-s ml-1\"> <use xlink:href=\"/assets/img/icons/sprite.svg?55#i-arr-d-r\"></use> </svg> </div> </a> </div>\n"
     ]
    }
   ],
   "source": [
    "print(block)"
   ]
  },
  {
   "cell_type": "code",
   "execution_count": null,
   "id": "52139adf",
   "metadata": {},
   "outputs": [],
   "source": []
  }
 ],
 "metadata": {
  "kernelspec": {
   "display_name": "base",
   "language": "python",
   "name": "python3"
  },
  "language_info": {
   "codemirror_mode": {
    "name": "ipython",
    "version": 3
   },
   "file_extension": ".py",
   "mimetype": "text/x-python",
   "name": "python",
   "nbconvert_exporter": "python",
   "pygments_lexer": "ipython3",
   "version": "3.13.5"
  }
 },
 "nbformat": 4,
 "nbformat_minor": 5
}
