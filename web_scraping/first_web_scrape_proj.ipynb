{
 "cells": [
  {
   "cell_type": "markdown",
   "id": "3649cad2",
   "metadata": {},
   "source": [
    "# My first real web scraping project | Alex the Analyst\n",
    "\n",
    "### Using Beautiful Soup and Pandas"
   ]
  },
  {
   "cell_type": "code",
   "execution_count": null,
   "id": "e1f62acd",
   "metadata": {},
   "outputs": [],
   "source": [
    "from bs4 import BeautifulSoup\n",
    "import requests"
   ]
  },
  {
   "cell_type": "markdown",
   "id": "e4cebb88",
   "metadata": {},
   "source": [
    "### Setting up the url and the parser (which is html)"
   ]
  },
  {
   "cell_type": "code",
   "execution_count": null,
   "id": "a35c5a98",
   "metadata": {},
   "outputs": [],
   "source": [
    "url = 'https://en.m.wikipedia.org/wiki/List_of_largest_companies_in_the_United_States_by_revenue'\n",
    "\n",
    "page = requests.get(url)\n",
    "\n",
    "soup = BeautifulSoup(page.text, 'html')"
   ]
  },
  {
   "cell_type": "code",
   "execution_count": null,
   "id": "7926691e",
   "metadata": {},
   "outputs": [],
   "source": [
    "print(soup)"
   ]
  },
  {
   "cell_type": "markdown",
   "id": "d89f276f",
   "metadata": {},
   "source": [
    "### Using indexing to get the table we want to sort"
   ]
  },
  {
   "cell_type": "code",
   "execution_count": null,
   "id": "fdd6bbcb",
   "metadata": {},
   "outputs": [],
   "source": [
    "soup.find_all('table')[0]"
   ]
  },
  {
   "cell_type": "markdown",
   "id": "8b62f267",
   "metadata": {},
   "source": []
  },
  {
   "cell_type": "markdown",
   "id": "2ea40f11",
   "metadata": {},
   "source": [
    "### (Alternative) Using the class to get the table"
   ]
  },
  {
   "cell_type": "code",
   "execution_count": null,
   "id": "6150de2e",
   "metadata": {},
   "outputs": [],
   "source": [
    "soup.find('table', class_ = 'wikitable sortable')"
   ]
  },
  {
   "cell_type": "markdown",
   "id": "6399c0e8",
   "metadata": {},
   "source": [
    "### setting the table into a variable "
   ]
  },
  {
   "cell_type": "code",
   "execution_count": null,
   "id": "6668107e",
   "metadata": {},
   "outputs": [],
   "source": [
    "table = soup.find_all('table')[0]"
   ]
  },
  {
   "cell_type": "code",
   "execution_count": null,
   "id": "5e3a0155",
   "metadata": {},
   "outputs": [],
   "source": [
    "print(table)"
   ]
  },
  {
   "cell_type": "markdown",
   "id": "5f8a926b",
   "metadata": {},
   "source": [
    "### finding the element of the header, th means table header"
   ]
  },
  {
   "cell_type": "code",
   "execution_count": null,
   "id": "523cd225",
   "metadata": {},
   "outputs": [],
   "source": [
    "world_titles = table.find_all('th')"
   ]
  },
  {
   "cell_type": "code",
   "execution_count": null,
   "id": "6f9bff55",
   "metadata": {},
   "outputs": [],
   "source": [
    "world_titles"
   ]
  },
  {
   "cell_type": "markdown",
   "id": "7590ed93",
   "metadata": {},
   "source": [
    "### Using list comprehension to get the title header"
   ]
  },
  {
   "cell_type": "code",
   "execution_count": null,
   "id": "3265de25",
   "metadata": {},
   "outputs": [],
   "source": [
    "world_table_titles = [title.text.strip() for title in world_titles ]\n",
    "\n",
    "print(world_table_titles)"
   ]
  },
  {
   "cell_type": "code",
   "execution_count": null,
   "id": "96c16700",
   "metadata": {},
   "outputs": [],
   "source": [
    "world_table_titles"
   ]
  },
  {
   "cell_type": "markdown",
   "id": "ea1eeba0",
   "metadata": {},
   "source": [
    "### Importing pandas and making a dataframe"
   ]
  },
  {
   "cell_type": "code",
   "execution_count": null,
   "id": "013eef44",
   "metadata": {},
   "outputs": [],
   "source": [
    "import pandas as pd\n",
    "\n",
    "df = pd.DataFrame(columns=world_table_titles)\n",
    "\n",
    "df\n"
   ]
  },
  {
   "cell_type": "markdown",
   "id": "c32167f1",
   "metadata": {},
   "source": [
    "### finding the element to get the rows, tr means table row"
   ]
  },
  {
   "cell_type": "code",
   "execution_count": null,
   "id": "9b63e0dd",
   "metadata": {},
   "outputs": [],
   "source": [
    "column_data = table.find_all('tr')"
   ]
  },
  {
   "cell_type": "markdown",
   "id": "2ca3ca86",
   "metadata": {},
   "source": [
    "### using a for loop to get the data of the rows in the tr, and putting it the value of td (table data) into a variable\n",
    "\n",
    "### getting the length of the dataframe\n",
    "### locating the length and setting the table rows into that row\n",
    "### so kkunin mo muna yung rows and lalagay mo sa location ng dataframe tapos iappend (= sign) sa dataframe "
   ]
  },
  {
   "cell_type": "code",
   "execution_count": null,
   "id": "346645b7",
   "metadata": {},
   "outputs": [],
   "source": [
    "for row in column_data[1:]:\n",
    "    row_data = row.find_all('td')\n",
    "    individual_row_data = [ data.text.strip() for data in row_data]\n",
    "    \n",
    "    length = len(df)\n",
    "    df.loc[length] = individual_row_data\n",
    "\n",
    "\n"
   ]
  },
  {
   "cell_type": "markdown",
   "id": "a3c018ce",
   "metadata": {},
   "source": [
    "### putting the dataframe into a csv with the index false because our data already has index"
   ]
  },
  {
   "cell_type": "code",
   "execution_count": null,
   "id": "aa3c3953",
   "metadata": {},
   "outputs": [],
   "source": [
    "df.to_csv(r\"C:\\jupyter\\first_web_scrape.csv\", index=False)"
   ]
  },
  {
   "cell_type": "code",
   "execution_count": null,
   "id": "df83b5b4",
   "metadata": {},
   "outputs": [],
   "source": []
  },
  {
   "cell_type": "code",
   "execution_count": null,
   "id": "e56d7c17",
   "metadata": {},
   "outputs": [],
   "source": []
  },
  {
   "cell_type": "code",
   "execution_count": null,
   "id": "98eb8e79",
   "metadata": {},
   "outputs": [],
   "source": []
  },
  {
   "cell_type": "code",
   "execution_count": null,
   "id": "bbf2a8c2",
   "metadata": {},
   "outputs": [],
   "source": []
  },
  {
   "cell_type": "code",
   "execution_count": null,
   "id": "0f648091",
   "metadata": {},
   "outputs": [],
   "source": []
  },
  {
   "cell_type": "code",
   "execution_count": null,
   "id": "d94d1b87",
   "metadata": {},
   "outputs": [],
   "source": []
  },
  {
   "cell_type": "code",
   "execution_count": null,
   "id": "f758e767",
   "metadata": {},
   "outputs": [],
   "source": []
  },
  {
   "cell_type": "code",
   "execution_count": null,
   "id": "90340670",
   "metadata": {},
   "outputs": [],
   "source": []
  },
  {
   "cell_type": "code",
   "execution_count": null,
   "id": "c642d52d",
   "metadata": {},
   "outputs": [],
   "source": []
  }
 ],
 "metadata": {
  "kernelspec": {
   "display_name": "base",
   "language": "python",
   "name": "python3"
  },
  "language_info": {
   "codemirror_mode": {
    "name": "ipython",
    "version": 3
   },
   "file_extension": ".py",
   "mimetype": "text/x-python",
   "name": "python",
   "nbconvert_exporter": "python",
   "pygments_lexer": "ipython3",
   "version": "3.13.5"
  }
 },
 "nbformat": 4,
 "nbformat_minor": 5
}
