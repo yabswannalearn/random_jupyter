{
 "cells": [
  {
   "cell_type": "code",
   "execution_count": 1,
   "id": "f17d9979-f574-4e07-b041-2ad24e94f2d3",
   "metadata": {},
   "outputs": [
    {
     "name": "stdout",
     "output_type": "stream",
     "text": [
      "[101, 'apple', 55, 'banana', 202, 'cat', 99]\n"
     ]
    }
   ],
   "source": [
    "mixed_data = [101, \"apple\", 55, \"banana\", 202, \"cat\", 99]\n",
    "\n",
    "print(mixed_data)"
   ]
  },
  {
   "cell_type": "code",
   "execution_count": 2,
   "id": "fa257831-b759-4c83-9fb1-14127e4cbed1",
   "metadata": {},
   "outputs": [
    {
     "name": "stdout",
     "output_type": "stream",
     "text": [
      "['apple', 'banana', 'cat']\n",
      "[101, 55, 202, 99]\n"
     ]
    }
   ],
   "source": [
    "words = []\n",
    "numbers = []\n",
    "\n",
    "for x in mixed_data:\n",
    "    if isinstance(x, str):\n",
    "        words.append(x)\n",
    "    else:\n",
    "        numbers.append(x)\n",
    "\n",
    "print(words)\n",
    "print(numbers)"
   ]
  },
  {
   "cell_type": "code",
   "execution_count": 3,
   "id": "920922e6-2bec-46f3-adbf-627444aaa382",
   "metadata": {},
   "outputs": [],
   "source": [
    "# Step 1: Create an empty list for words, called 'words'.\n",
    "# Step 2: Create an empty list for numbers, called 'numbers'.\n",
    "# Step 3: Loop through each item in the mixed_data list.\n",
    "#   Step 4: Inside the loop, check if the item is a string.\n",
    "#   Step 5: If it is a string, append it to the 'words' list.\n",
    "#   Step 6: Otherwise, check if the item is an integer.\n",
    "#   Step 7: If it is an integer, append it to the 'numbers' list.\n",
    "# Step 8: After the loop, print both new lists to see the result."
   ]
  },
  {
   "cell_type": "markdown",
   "id": "dae100db-857b-48f6-8eb9-48415ac14feb",
   "metadata": {},
   "source": [
    "## pass or fail"
   ]
  },
  {
   "cell_type": "code",
   "execution_count": 4,
   "id": "f41148d3-146c-40fd-812b-dd0265157aeb",
   "metadata": {},
   "outputs": [],
   "source": [
    "scores = [88, 65, 92, 74, 77, 100, 59, 81]"
   ]
  },
  {
   "cell_type": "code",
   "execution_count": 5,
   "id": "d6bbab28-841f-4b7f-bd9c-c6e0fcab1b96",
   "metadata": {},
   "outputs": [],
   "source": [
    "# Step 1: Create an empty list called passing_scores.\n",
    "# Step 2: Create a variable called failed_count, starting at 0.\n",
    "# Step 3: Loop through each score in the scores list.\n",
    "#   Step 4: If the score is 75 or greater, append it to the passing_scores list.\n",
    "#   Step 5: Otherwise (else), increase the failed_count by 1.\n",
    "# Step 6: After the loop, print the passing_scores list.\n",
    "# Step 7: After the loop, print the failed_count."
   ]
  },
  {
   "cell_type": "code",
   "execution_count": 6,
   "id": "ab23b96a-610a-4c71-9bce-733da58740fb",
   "metadata": {},
   "outputs": [
    {
     "name": "stdout",
     "output_type": "stream",
     "text": [
      "[88, 92, 77, 100, 81]\n",
      "3\n"
     ]
    }
   ],
   "source": [
    "passing_scores = []\n",
    "failed_count = 0\n",
    "\n",
    "for x in scores:\n",
    "    if x >= 75:\n",
    "        passing_scores.append(x)\n",
    "    else:\n",
    "        failed_count += 1\n",
    "print(passing_scores)\n",
    "print(failed_count)"
   ]
  },
  {
   "cell_type": "markdown",
   "id": "1c91d7be-4e1a-456b-9bf1-85066933f420",
   "metadata": {},
   "source": [
    "## using dict"
   ]
  },
  {
   "cell_type": "code",
   "execution_count": 7,
   "id": "780019a9-b35b-4284-8727-d38e5a975e63",
   "metadata": {},
   "outputs": [],
   "source": [
    "# Step 1: Create a variable called total_price, starting at 0.\n",
    "# Step 2: Loop through each product dictionary in the shopping_cart list.\n",
    "#   Step 3: Check if the value of the product's \"in_stock\" key is True.\n",
    "#   Step 4: If it is True, get the value of the product's \"price\" key and add it to the total_price.\n",
    "# Step 5: After the loop, print the final total_price."
   ]
  },
  {
   "cell_type": "code",
   "execution_count": 8,
   "id": "9ab0dfa8-bf7c-46be-a985-6326d8ec0200",
   "metadata": {},
   "outputs": [],
   "source": [
    "shopping_cart = [\n",
    "    {\"name\": \"Laptop\", \"price\": 1200, \"in_stock\": True},\n",
    "    {\"name\": \"Mouse\", \"price\": 25, \"in_stock\": False},\n",
    "    {\"name\": \"Keyboard\", \"price\": 75, \"in_stock\": True},\n",
    "    {\"name\": \"Monitor\", \"price\": 300, \"in_stock\": True},\n",
    "    {\"name\": \"Webcam\", \"price\": 50, \"in_stock\": False}\n",
    "]"
   ]
  },
  {
   "cell_type": "code",
   "execution_count": 9,
   "id": "28f04ecb-4452-455a-80e5-e95ad9071dd8",
   "metadata": {},
   "outputs": [
    {
     "name": "stdout",
     "output_type": "stream",
     "text": [
      "1575\n"
     ]
    }
   ],
   "source": [
    "running_total = 0\n",
    "\n",
    "for x in shopping_cart:\n",
    "    if x['in_stock'] == True:\n",
    "        running_total += x['price']\n",
    "        \n",
    "print(running_total)"
   ]
  },
  {
   "cell_type": "code",
   "execution_count": null,
   "id": "7a662227-8d57-49dc-b722-7968ef837b1b",
   "metadata": {},
   "outputs": [],
   "source": []
  },
  {
   "cell_type": "code",
   "execution_count": null,
   "id": "4dfddbf6-1bba-4d8e-861a-09fa270e21c2",
   "metadata": {},
   "outputs": [],
   "source": []
  },
  {
   "cell_type": "code",
   "execution_count": null,
   "id": "73499f3b",
   "metadata": {},
   "outputs": [],
   "source": []
  },
  {
   "cell_type": "code",
   "execution_count": null,
   "id": "0f39a465",
   "metadata": {},
   "outputs": [],
   "source": []
  }
 ],
 "metadata": {
  "kernelspec": {
   "display_name": "base",
   "language": "python",
   "name": "python3"
  },
  "language_info": {
   "codemirror_mode": {
    "name": "ipython",
    "version": 3
   },
   "file_extension": ".py",
   "mimetype": "text/x-python",
   "name": "python",
   "nbconvert_exporter": "python",
   "pygments_lexer": "ipython3",
   "version": "3.13.5"
  }
 },
 "nbformat": 4,
 "nbformat_minor": 5
}
