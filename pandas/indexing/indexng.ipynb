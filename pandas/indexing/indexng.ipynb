{
 "cells": [
  {
   "cell_type": "markdown",
   "id": "9762a010",
   "metadata": {},
   "source": [
    "# Indexing"
   ]
  },
  {
   "cell_type": "code",
   "execution_count": null,
   "id": "fc969f7b",
   "metadata": {},
   "outputs": [],
   "source": [
    "import pandas as pd"
   ]
  },
  {
   "cell_type": "markdown",
   "id": "e487bf7e",
   "metadata": {},
   "source": [
    "### setting index"
   ]
  },
  {
   "cell_type": "code",
   "execution_count": null,
   "id": "509b5ce5",
   "metadata": {},
   "outputs": [],
   "source": [
    "df = pd.read_csv(r\"C:\\jupyter\\pandas\\filter and ordering\\world_population.csv\", index_col='Country')\n",
    "\n",
    "df"
   ]
  },
  {
   "cell_type": "markdown",
   "id": "d37f09ba",
   "metadata": {},
   "source": [
    "### resetting index, inplace means that we will set that index"
   ]
  },
  {
   "cell_type": "code",
   "execution_count": null,
   "id": "7fdb4487",
   "metadata": {},
   "outputs": [],
   "source": [
    "df.reset_index(inplace=True)"
   ]
  },
  {
   "cell_type": "markdown",
   "id": "8c332f40",
   "metadata": {},
   "source": [
    "### 2 ways to do this"
   ]
  },
  {
   "cell_type": "code",
   "execution_count": null,
   "id": "901d6703",
   "metadata": {},
   "outputs": [],
   "source": [
    "df = df.set_index('Country')\n",
    "# df.set_index('Country', inplace=True)\n",
    "df"
   ]
  },
  {
   "cell_type": "markdown",
   "id": "d11d5960",
   "metadata": {},
   "source": [
    "### loc and iloc\n",
    "### loc = location\n",
    "### iloc = integer location"
   ]
  },
  {
   "cell_type": "code",
   "execution_count": null,
   "id": "4359ec81",
   "metadata": {},
   "outputs": [],
   "source": [
    "df.loc['Albania']"
   ]
  },
  {
   "cell_type": "code",
   "execution_count": null,
   "id": "12f3a8c0",
   "metadata": {},
   "outputs": [],
   "source": [
    "df.iloc[1]"
   ]
  },
  {
   "cell_type": "markdown",
   "id": "f2e25f23",
   "metadata": {},
   "source": [
    "### multi indexing"
   ]
  },
  {
   "cell_type": "code",
   "execution_count": null,
   "id": "27c680cd",
   "metadata": {},
   "outputs": [],
   "source": [
    "df.reset_index(inplace=True)"
   ]
  },
  {
   "cell_type": "code",
   "execution_count": null,
   "id": "20ca68f7",
   "metadata": {},
   "outputs": [],
   "source": [
    "df.set_index(['Continent', 'Country'], inplace=True)"
   ]
  },
  {
   "cell_type": "markdown",
   "id": "ee0e769a",
   "metadata": {},
   "source": [
    "### sorting indexing"
   ]
  },
  {
   "cell_type": "code",
   "execution_count": null,
   "id": "99b926c2",
   "metadata": {},
   "outputs": [],
   "source": [
    "df = df.sort_index(ascending=[False,True])\n",
    "\n",
    "df\n",
    "\n"
   ]
  },
  {
   "cell_type": "markdown",
   "id": "1c55e810",
   "metadata": {},
   "source": [
    "### using multi indexing"
   ]
  },
  {
   "cell_type": "code",
   "execution_count": null,
   "id": "d1173b9c",
   "metadata": {},
   "outputs": [],
   "source": [
    "df.loc['Africa', 'Angola']"
   ]
  },
  {
   "cell_type": "markdown",
   "id": "4d88df23",
   "metadata": {},
   "source": [
    "### di pwedeng multi index dito"
   ]
  },
  {
   "cell_type": "code",
   "execution_count": null,
   "id": "836a317c",
   "metadata": {},
   "outputs": [
    {
     "ename": "",
     "evalue": "",
     "output_type": "error",
     "traceback": [
      "\u001b[1;31mThe Kernel crashed while executing code in the current cell or a previous cell. \n",
      "\u001b[1;31mPlease review the code in the cell(s) to identify a possible cause of the failure. \n",
      "\u001b[1;31mClick <a href='https://aka.ms/vscodeJupyterKernelCrash'>here</a> for more info. \n",
      "\u001b[1;31mView Jupyter <a href='command:jupyter.viewOutput'>log</a> for further details."
     ]
    }
   ],
   "source": [
    "df.iloc[1]"
   ]
  },
  {
   "cell_type": "code",
   "execution_count": null,
   "id": "fc8a712a",
   "metadata": {},
   "outputs": [],
   "source": []
  }
 ],
 "metadata": {
  "kernelspec": {
   "display_name": "base",
   "language": "python",
   "name": "python3"
  },
  "language_info": {
   "codemirror_mode": {
    "name": "ipython",
    "version": 3
   },
   "file_extension": ".py",
   "mimetype": "text/x-python",
   "name": "python",
   "nbconvert_exporter": "python",
   "pygments_lexer": "ipython3",
   "version": "3.13.5"
  }
 },
 "nbformat": 4,
 "nbformat_minor": 5
}
