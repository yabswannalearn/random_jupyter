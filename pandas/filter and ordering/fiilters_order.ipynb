{
 "cells": [
  {
   "cell_type": "code",
   "execution_count": null,
   "id": "5bdee66f",
   "metadata": {},
   "outputs": [],
   "source": [
    "import pandas as pd"
   ]
  },
  {
   "cell_type": "code",
   "execution_count": null,
   "id": "5775b028",
   "metadata": {},
   "outputs": [],
   "source": [
    "df = pd.read_csv(\"world_population.csv\")"
   ]
  },
  {
   "cell_type": "code",
   "execution_count": null,
   "id": "8f8291c0",
   "metadata": {},
   "outputs": [],
   "source": [
    "df.head()"
   ]
  },
  {
   "cell_type": "markdown",
   "id": "af7d15ca",
   "metadata": {},
   "source": [
    "### Comparison operators"
   ]
  },
  {
   "cell_type": "code",
   "execution_count": null,
   "id": "ef4382dd",
   "metadata": {},
   "outputs": [],
   "source": [
    "df[df['Rank'] <= 10]"
   ]
  },
  {
   "cell_type": "markdown",
   "id": "77cedcf5",
   "metadata": {},
   "source": [
    "### using isin function to get if there are in that column\n",
    "### parang is in sa SQL"
   ]
  },
  {
   "cell_type": "code",
   "execution_count": null,
   "id": "21abbf66",
   "metadata": {},
   "outputs": [],
   "source": [
    "specific_countries = ['Bangladesh', 'Brazil']\n",
    "\n",
    "df[df['Country'].isin(specific_countries)]"
   ]
  },
  {
   "cell_type": "markdown",
   "id": "8296d74f",
   "metadata": {},
   "source": [
    "### using contains\n",
    "### kung meron sya neto iooutput nya"
   ]
  },
  {
   "cell_type": "code",
   "execution_count": null,
   "id": "e48adaa5",
   "metadata": {},
   "outputs": [],
   "source": [
    "df[df['Country'].str.contains('United')]"
   ]
  },
  {
   "cell_type": "markdown",
   "id": "b4388504",
   "metadata": {},
   "source": [
    "### setting the index to country column"
   ]
  },
  {
   "cell_type": "code",
   "execution_count": null,
   "id": "bc83cdc4",
   "metadata": {},
   "outputs": [],
   "source": [
    "df2 = df.set_index('Country')\n",
    "df2.head()"
   ]
  },
  {
   "cell_type": "markdown",
   "id": "5e815da3",
   "metadata": {},
   "source": [
    "### items, ppili ka ng gusto mong makkita mong columns, axis =1, ibig sabihin neto maghhanap ka na sa columns na pinili mo"
   ]
  },
  {
   "cell_type": "code",
   "execution_count": null,
   "id": "575f86f1",
   "metadata": {},
   "outputs": [],
   "source": [
    "df2.filter(items=['Continent', 'CCA3', 'Growth Rate'], axis=1)"
   ]
  },
  {
   "cell_type": "markdown",
   "id": "1a88c31f",
   "metadata": {},
   "source": [
    "### Kapag axis = 0, mag ssearch sya sa index nya, so dito ginamit hinanap natin yung PH sa countries column"
   ]
  },
  {
   "cell_type": "code",
   "execution_count": null,
   "id": "237dda72",
   "metadata": {},
   "outputs": [],
   "source": [
    "df2.filter(items=['Philippines'], axis=0)"
   ]
  },
  {
   "cell_type": "markdown",
   "id": "dccee925",
   "metadata": {},
   "source": [
    "### using like, parang sa sql lang men"
   ]
  },
  {
   "cell_type": "code",
   "execution_count": null,
   "id": "cc337cae",
   "metadata": {},
   "outputs": [],
   "source": [
    "df2.filter(like='United', axis=0)"
   ]
  },
  {
   "cell_type": "markdown",
   "id": "25bace0f",
   "metadata": {},
   "source": [
    "### using loc and iloc\n",
    "### we are getting all the columns and all the values for United States"
   ]
  },
  {
   "cell_type": "code",
   "execution_count": null,
   "id": "64c22d17",
   "metadata": {},
   "outputs": [],
   "source": [
    "df2.loc['United States']"
   ]
  },
  {
   "cell_type": "markdown",
   "id": "2460222a",
   "metadata": {},
   "source": [
    "### integer-location, ILOC, hhanapin mo yung rank nya \n",
    "### pwede ka gumamit ng specific number or range"
   ]
  },
  {
   "cell_type": "code",
   "execution_count": null,
   "id": "f85624b3",
   "metadata": {},
   "outputs": [],
   "source": [
    "df2.iloc[1:5]"
   ]
  },
  {
   "cell_type": "markdown",
   "id": "5857fb30",
   "metadata": {},
   "source": [
    "### ORDERBY\n",
    "### it orders by the columns you want to\n",
    "### there is a ranking in the order, meaning kung ano yung nauna, sya yung unang ma oorder by\n",
    "### you can rank ascending too, kung ano index nila. natutunan mo yan sa datacamp men"
   ]
  },
  {
   "cell_type": "code",
   "execution_count": null,
   "id": "64b76c2b",
   "metadata": {},
   "outputs": [],
   "source": [
    "df[df['Rank'] < 10].sort_values(by=['Continent','Country'], ascending=[True,False], ignore_index=True)"
   ]
  }
 ],
 "metadata": {
  "kernelspec": {
   "display_name": "base",
   "language": "python",
   "name": "python3"
  },
  "language_info": {
   "codemirror_mode": {
    "name": "ipython",
    "version": 3
   },
   "file_extension": ".py",
   "mimetype": "text/x-python",
   "name": "python",
   "nbconvert_exporter": "python",
   "pygments_lexer": "ipython3",
   "version": "3.13.5"
  }
 },
 "nbformat": 4,
 "nbformat_minor": 5
}
